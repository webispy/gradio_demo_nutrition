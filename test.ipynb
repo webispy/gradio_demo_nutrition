{
 "cells": [
  {
   "cell_type": "code",
   "execution_count": null,
   "id": "cd126463",
   "metadata": {},
   "outputs": [
    {
     "name": "stdout",
     "output_type": "stream",
     "text": [
      "true\n"
     ]
    }
   ],
   "source": [
    "from dotenv import load_dotenv\n",
    "load_dotenv()\n",
    "\n",
    "from pprint import pprint\n",
    "\n",
    "import warnings\n",
    "warnings.filterwarnings('ignore')\n",
    "\n",
    "# Langsmith tracing 여부를 확인 (true: langsmith 추적 활성화, false: langsmith 추적 비활성화)\n",
    "import os\n",
    "print(os.getenv('LANGSMITH_TRACING'))"
   ]
  },
  {
   "cell_type": "code",
   "execution_count": null,
   "id": "31279d16",
   "metadata": {},
   "outputs": [
    {
     "name": "stdout",
     "output_type": "stream",
     "text": [
      "['nutrition_data']\n",
      "[('식품군',), ('가식부_100g_당_식품명',), ('출처',), ('일반성분_Proximates_에너지_kcal',), ('일반성분_Proximates_수분_g',), ('일반성분_Proximates_단백질_g',), ('일반성분_Proximates_지방_g',), ('일반성분_Proximates_회분_g',), ('일반성분_Proximates_탄수화물_g',), ('일반성분_Proximates_당류_g',), ('일반성분_Proximates_자당_g',), ('일반성분_Proximates_포도당_g',), ('일반성분_Proximates_과당_g',), ('일반성분_Proximates_유당_g',), ('일반성분_Proximates_맥아당_g',), ('일반성분_Proximates_갈락토오스_g',), ('일반성분_Proximates_총_식이섬유_g',), ('일반성분_Proximates_수용성_식이섬유_g',), ('일반성분_Proximates_불용성_식이섬유_g',), ('무기질_Minerals_칼슘_mg',), ('무기질_Minerals_철_mg',), ('무기질_Minerals_마그네슘_mg',), ('무기질_Minerals_인_mg',), ('무기질_Minerals_칼륨_mg',), ('무기질_Minerals_나트륨_mg',), ('무기질_Minerals_아연_mg',), ('무기질_Minerals_구리_mg',), ('무기질_Minerals_망간_mg',), ('무기질_Minerals_셀레늄_μg',), ('무기질_Minerals_몰리브덴_μg',), ('무기질_Minerals_요오드_μg',), ('비타민_Vitamins_비타민_A_μg',), ('비타민_Vitamins_레티놀_μg',), ('비타민_Vitamins_베타카로틴_μg',), ('비타민_Vitamins_티아민_mg',), ('비타민_Vitamins_리보플라빈_mg',), ('비타민_Vitamins_니아신_mg',), ('비타민_Vitamins_니아신당량_NE_mg',), ('비타민_Vitamins_니코틴산_mg',), ('비타민_Vitamins_니코틴아미드_mg',), ('비타민_Vitamins_판토텐산_mg',), ('비타민_Vitamins_비타민_B6_mg',), ('비타민_Vitamins_피리독신_mg',), ('비타민_Vitamins_비오틴_μg',), ('비타민_Vitamins_엽산_엽산당량_μg',), ('비타민_Vitamins_엽산_식품_엽산_μg',), ('비타민_Vitamins_엽산_합성_엽산_μg',), ('비타민_Vitamins_비타민_B12_μg',), ('비타민_Vitamins_비타민_C_mg',), ('비타민_Vitamins_비타민_D_μg',), ('비타민_Vitamins_비타민_D2_μg',), ('비타민_Vitamins_비타민_D3_μg',), ('비타민_Vitamins_비타민_E_mg',), ('비타민_Vitamins_알파_토코페롤_mg',), ('비타민_Vitamins_베타_토코페롤_mg',), ('비타민_Vitamins_감마_토코페롤_mg',), ('비타민_Vitamins_델타_토코페롤_mg',), ('비타민_Vitamins_알파_토코트리에놀_mg',), ('비타민_Vitamins_베타_토코트리에놀_mg',), ('비타민_Vitamins_감마_토코트리에놀_mg',), ('비타민_Vitamins_델타_토코트리에놀_mg',), ('비타민_Vitamins_비타민_K_μg',), ('비타민_Vitamins_비타민_K1_μg',), ('비타민_Vitamins_비타민_K2_μg',), ('아미노산_Amino_acids_총_아미노산_mg',), ('아미노산_Amino_acids_총_필수_아미노산_mg',), ('아미노산_Amino_acids_이소류신_mg',), ('아미노산_Amino_acids_류신_mg',), ('아미노산_Amino_acids_라이신_mg',), ('아미노산_Amino_acids_메티오닌_mg',), ('아미노산_Amino_acids_페닐알라닌_mg',), ('아미노산_Amino_acids_트레오닌_mg',), ('아미노산_Amino_acids_트립토판_mg',), ('아미노산_Amino_acids_발린_mg',), ('아미노산_Amino_acids_히스티딘_mg',), ('아미노산_Amino_acids_아르기닌_mg',), ('아미노산_Amino_acids_티로신_mg',), ('아미노산_Amino_acids_시스테인_mg',), ('아미노산_Amino_acids_알라닌_mg',), ('아미노산_Amino_acids_아스파르트산_mg',), ('아미노산_Amino_acids_글루탐산_mg',), ('아미노산_Amino_acids_글라이신_mg',), ('아미노산_Amino_acids_프롤린_mg',), ('아미노산_Amino_acids_세린_mg',), ('아미노산_Amino_acids_타우린_mg',), ('column_87',), ('지방산_Fatty_acids_총_지방산_g',), ('지방산_Fatty_acids_총_필수_지방산_g',), ('지방산_Fatty_acids_총_포화_지방산_g',), ('지방산_Fatty_acids_부티르산_4_0_mg',), ('지방산_Fatty_acids_카프로산_6_0_mg',), ('지방산_Fatty_acids_카프릴산_8_0_mg',), ('지방산_Fatty_acids_카프르산_10_0_mg',), ('지방산_Fatty_acids_라우르산_12_0_mg',), ('지방산_Fatty_acids_트라이데칸산_13_0_mg',), ('지방산_Fatty_acids_미리스트산_14_0_mg',), ('지방산_Fatty_acids_펜타데칸산_15_0_mg',), ('지방산_Fatty_acids_팔미트산_16_0_mg',), ('지방산_Fatty_acids_헵타데칸산_17_0_mg',), ('지방산_Fatty_acids_스테아르산_18_0_mg',), ('지방산_Fatty_acids_아라키드산_20_0_mg',), ('지방산_Fatty_acids_헨에이코산산_21_0_mg',), ('지방산_Fatty_acids_베헨산_22_0_mg',), ('지방산_Fatty_acids_트리코산산_23_0_mg',), ('지방산_Fatty_acids_리그노세르산_24_0_mg',), ('지방산_Fatty_acids_총_불포화_지방산_g',), ('지방산_Fatty_acids_총_단일_불포화지방산_g',), ('지방산_Fatty_acids_미리스톨레산_14_1_mg',), ('지방산_Fatty_acids_팔미톨레산_16_1_mg',), ('지방산_Fatty_acids_헵타데센산_17_1_mg',), ('지방산_Fatty_acids_올레산_18_1_n_9_mg',), ('지방산_Fatty_acids_박센산_18_1_n_7_mg',), ('지방산_Fatty_acids_가돌레산_20_1_mg',), ('지방산_Fatty_acids_에루크산_22_1_mg',), ('지방산_Fatty_acids_네르본산_24_1_mg',), ('지방산_Fatty_acids_총_다가_불포화지방산_g',), ('지방산_Fatty_acids_리놀레산_18_2_n_6_mg',), ('지방산_Fatty_acids_알파_리놀렌산_18_3_n_3_mg',), ('지방산_Fatty_acids_감마_리놀렌산_18_3_n_6_mg',), ('지방산_Fatty_acids_에이코사_디에노산_20_2_n_6_mg',), ('지방산_Fatty_acids_디호모_리놀렌산_20_3_n_3_mg',), ('지방산_Fatty_acids_에이코사_트리에노산_20_3_n_6_mg',), ('지방산_Fatty_acids_아라키돈산_20_4_n_6_mg',), ('지방산_Fatty_acids_에이코사_펜타에노산_20_5_n_3_mg',), ('지방산_Fatty_acids_도코사_디에노산_22_2_mg',), ('지방산_Fatty_acids_도코사_펜타에노산_22_5_n_3_mg',), ('지방산_Fatty_acids_도코사_헥사에노산_22_6_n_3_mg',), ('지방산_Fatty_acids_오메가3_지방산_g',), ('지방산_Fatty_acids_오메가6_지방산_g',), ('지방산_Fatty_acids_총_트랜스_지방산_g',), ('지방산_Fatty_acids_트랜스_올레산_18_1_n_9_t_mg',), ('지방산_Fatty_acids_트랜스_리놀레산_18_2t_mg',), ('지방산_Fatty_acids_트랜스_리놀렌산_18_3t_mg',), ('column_135',), ('column_136',)]\n"
     ]
    }
   ],
   "source": [
    "from langchain_community.utilities import SQLDatabase\n",
    "\n",
    "# SQLite 데이터베이스 연결\n",
    "db = SQLDatabase.from_uri(\"sqlite:///nutrition_data.db\")\n",
    "\n",
    "# 사용 가능한 테이블 목록 출력\n",
    "tables = db.get_usable_table_names()\n",
    "print(tables)\n",
    "\n",
    "columns_result = db.run(\"SELECT c.name FROM PRAGMA_TABLE_INFO('nutrition_data') c\")\n",
    "print(columns_result)"
   ]
  },
  {
   "cell_type": "code",
   "execution_count": null,
   "id": "27c84b02",
   "metadata": {},
   "outputs": [
    {
     "data": {
      "image/png": "[encoded data removed]",
      "text/plain": [
       "<IPython.core.display.Image object>"
      ]
     },
     "metadata": {},
     "output_type": "display_data"
    }
   ],
   "source": [
    "from typing import Annotated, TypedDict, Literal, List\n",
    "from langchain_openai import ChatOpenAI\n",
    "from langchain_community.tools import QuerySQLDatabaseTool\n",
    "from langgraph.graph import START, END, StateGraph \n",
    "from IPython.display import Image, display\n",
    "\n",
    "from langchain.chains import create_sql_query_chain\n",
    "from langchain.chains.sql_database.prompt import SQLITE_PROMPT\n",
    "\n",
    "\n",
    "# 상태 정보를 저장하는 State 클래스\n",
    "class NutritionState(TypedDict):\n",
    "    question: str  # 입력 질문\n",
    "    query: str     # 생성된 쿼리\n",
    "    score: float   # 쿼리의 정합성 점수(0~1)\n",
    "    result: str    # 쿼리 결과\n",
    "    answer: str    # 생성된 답변\n",
    "\n",
    "\n",
    "# SQL 쿼리 생성 Structured Output\n",
    "class QueryOutput(TypedDict):\n",
    "    \"\"\"Generated SQL query.\"\"\"\n",
    "    query: Annotated[str, ..., \"Syntactically valid SQL query.\"]\n",
    "\n",
    "# 생성된 쿼리를 평가하기 위한 Structured Output    \n",
    "class EvaluateOutput(TypedDict):\n",
    "    \"\"\"Evaluate SQL query.\"\"\"\n",
    "    score: float\n",
    "    columns: List[str]\n",
    "    \n",
    "# 모델\n",
    "llm = ChatOpenAI(model=\"gpt-4.1-mini\")\n",
    "\n",
    "structured_query_llm = llm.with_structured_output(QueryOutput)\n",
    "structured_evaluate_llm = llm.with_structured_output(EvaluateOutput)\n",
    "\n",
    "# SQL 쿼리 생성 chain (최대 10개의 데이터를 가져오는 쿼리 생성)\n",
    "gpt_sql = create_sql_query_chain(llm=llm, db=db, k=10, prompt=SQLITE_PROMPT)\n",
    "\n",
    "\n",
    "def write_query(state: NutritionState) -> NutritionState:\n",
    "    \"\"\"Generate SQL query to fetch information.\"\"\"\n",
    "    prompt = gpt_sql.invoke({\"question\": state[\"question\"]})\n",
    "    result = structured_query_llm.invoke(prompt)\n",
    "    print(\"write_query: result\")\n",
    "    pprint(result)\n",
    "    print(\"-\"*100)\n",
    "    return {\"query\": result[\"query\"]}\n",
    "\n",
    "def evaluate_query(state: NutritionState) -> NutritionState:\n",
    "    \"\"\"Evaluate SQL query.\"\"\"\n",
    "    prompt = f\"\"\"\n",
    "        아래 질문과 쿼리의 정합성에 대해 평가해주세요. 점수(0~1)로만 평가해주고 사용된 컬림 이름을 반환해주세요.\n",
    "\n",
    "        Question: {state[\"question\"]}\n",
    "        SQLQuery: {state[\"query\"]}\n",
    "        \"\"\"\n",
    "    result = structured_evaluate_llm.invoke(prompt)\n",
    "    print(\"evaluate_query: result\")\n",
    "    pprint(result)\n",
    "    print(\"-\"*100)\n",
    "\n",
    "    # 사용된 컬럼 목록이 실제 테이블에 존재하는 컬럼인지 검사\n",
    "    columns = result[\"columns\"]\n",
    "    for column in columns:\n",
    "        if column not in db.get_table_info():\n",
    "            print(f\"사용된 컬럼 {column}이 실제 테이블에 존재하지 않습니다.\")\n",
    "            return {\"score\": 0}\n",
    "\n",
    "    return {\"score\": result[\"score\"]}\n",
    "\n",
    "def decide_next_step(state: NutritionState) -> Literal[\"execute_query\", \"unsupported_data\"]:\n",
    "    \"\"\"점수가 0.3 이상이면 쿼리 실행, 아니면 지원하지 않는 데이터\"\"\"\n",
    "    if state[\"score\"] > 0.3:\n",
    "        return \"execute_query\"\n",
    "    else:\n",
    "        return \"unsupported_data\"\n",
    "\n",
    "def execute_query(state: NutritionState):\n",
    "    \"\"\"SQL쿼리 실행\"\"\"\n",
    "    execute_query_tool = QuerySQLDatabaseTool(db=db)\n",
    "    return {\"result\": execute_query_tool.invoke(state[\"query\"])}\n",
    "\n",
    "def generate_answer(state: NutritionState):\n",
    "    \"\"\"주어진 질문, 쿼리, 결과를 바탕으로 답변 생성\"\"\"\n",
    "    prompt = (\n",
    "        \"Given the following user question, corresponding SQL query, \"\n",
    "        \"and SQL result, answer the user question.\\n\\n\"\n",
    "        f'Question: {state[\"question\"]}\\n'\n",
    "        f'SQL Query: {state[\"query\"]}\\n'\n",
    "        f'SQL Result: {state[\"result\"]}'\n",
    "    )\n",
    "    response = llm.invoke(prompt)\n",
    "    return {\"answer\": response.content}\n",
    "\n",
    "def unsupported_data(state: NutritionState):\n",
    "    \"\"\"지원하지 않는 데이터에 대한 응답\"\"\"\n",
    "    return {\"answer\": \"지원하지 않는 데이터입니다.\"}\n",
    "\n",
    "# 상태 그래프 생성\n",
    "graph_builder = StateGraph(NutritionState)\n",
    "\n",
    "graph_builder.add_node(\"write_query\", write_query)\n",
    "graph_builder.add_node(\"evaluate_query\", evaluate_query)\n",
    "graph_builder.add_node(\"execute_query\", execute_query)\n",
    "graph_builder.add_node(\"generate_answer\", generate_answer)\n",
    "graph_builder.add_node(\"unsupported_data\", unsupported_data)\n",
    "\n",
    "graph_builder.add_edge(START, \"write_query\")\n",
    "graph_builder.add_edge(\"write_query\", \"evaluate_query\")\n",
    "\n",
    "graph_builder.add_conditional_edges(\n",
    "    \"evaluate_query\",\n",
    "    decide_next_step\n",
    ")\n",
    "\n",
    "graph_builder.add_edge(\"execute_query\", \"generate_answer\")\n",
    "graph_builder.add_edge(\"generate_answer\", END)\n",
    "\n",
    "graph = graph_builder.compile()\n",
    "\n",
    "# 상태 그래프 시각화\n",
    "display(Image(graph.get_graph().draw_mermaid_png()))"
   ]
  },
  {
   "cell_type": "code",
   "execution_count": 120,
   "id": "68dbca2f",
   "metadata": {},
   "outputs": [
    {
     "name": "stdout",
     "output_type": "stream",
     "text": [
      "write_query: result\n",
      "{'query': 'SELECT \"가식부_100g_당_식품명\", \"무기질_Minerals_요오드_μg\" \\n'\n",
      "          'FROM \"nutrition_data\" \\n'\n",
      "          'WHERE \"무기질_Minerals_요오드_μg\" IS NOT NULL \\n'\n",
      "          'ORDER BY \"무기질_Minerals_요오드_μg\" DESC \\n'\n",
      "          'LIMIT 5;'}\n",
      "----------------------------------------------------------------------------------------------------\n",
      "{'write_query': {'query': 'SELECT \"가식부_100g_당_식품명\", \"무기질_Minerals_요오드_μg\" \\nFROM \"nutrition_data\" \\nWHERE \"무기질_Minerals_요오드_μg\" IS NOT NULL \\nORDER BY \"무기질_Minerals_요오드_μg\" DESC \\nLIMIT 5;'}}\n",
      "evaluate_query: result\n",
      "{'columns': ['가식부_100g_당_식품명', '무기질_Minerals_요오드_μg'], 'score': 1}\n",
      "----------------------------------------------------------------------------------------------------\n",
      "{'evaluate_query': {'score': 1}}\n",
      "{'execute_query': {'result': \"[('하이라이스, 가루', 973.24), ('멸치 육수, 티백, 채소 포함', 912.21), ('명태, 북어, 말린것', 499.14), ('석이버섯, 말린것', 474.78), ('메추리알, 난황, 생것', 331.76)]\"}}\n",
      "{'generate_answer': {'answer': '상위 5개 요오드 함량이 높은 식품은 다음과 같습니다:\\n\\n1. 하이라이스, 가루 - 973.24 μg  \\n2. 멸치 육수, 티백, 채소 포함 - 912.21 μg  \\n3. 명태, 북어, 말린것 - 499.14 μg  \\n4. 석이버섯, 말린것 - 474.78 μg  \\n5. 메추리알, 난황, 생것 - 331.76 μg'}}\n"
     ]
    }
   ],
   "source": [
    "# 오타 테스트: '요도드' -> '요오드'\n",
    "for step in graph.stream(\n",
    "    {\"question\": \"상위 5개 요도드가 높은 식품은?\"}, stream_mode=\"updates\"\n",
    "):\n",
    "    print(step)"
   ]
  },
  {
   "cell_type": "code",
   "execution_count": 121,
   "id": "2467325f",
   "metadata": {},
   "outputs": [
    {
     "name": "stdout",
     "output_type": "stream",
     "text": [
      "write_query: result\n",
      "{'query': 'SELECT \"가식부_100g_당_식품명\", \"일반성분_Proximates_푸린_mg\" \\n'\n",
      "          'FROM nutrition_data \\n'\n",
      "          'WHERE \"일반성분_Proximates_푸린_mg\" IS NOT NULL \\n'\n",
      "          'ORDER BY \"일반성분_Proximates_푸린_mg\" DESC \\n'\n",
      "          'LIMIT 10;'}\n",
      "----------------------------------------------------------------------------------------------------\n",
      "{'write_query': {'query': 'SELECT \"가식부_100g_당_식품명\", \"일반성분_Proximates_푸린_mg\" \\nFROM nutrition_data \\nWHERE \"일반성분_Proximates_푸린_mg\" IS NOT NULL \\nORDER BY \"일반성분_Proximates_푸린_mg\" DESC \\nLIMIT 10;'}}\n",
      "evaluate_query: result\n",
      "{'columns': ['가식부_100g_당_식품명', '일반성분_Proximates_푸린_mg'], 'score': 0.9}\n",
      "----------------------------------------------------------------------------------------------------\n",
      "사용된 컬럼 일반성분_Proximates_푸린_mg이 실제 테이블에 존재하지 않습니다.\n",
      "{'evaluate_query': {'score': 0}}\n",
      "{'unsupported_data': {'answer': '지원하지 않는 데이터입니다.'}}\n"
     ]
    }
   ],
   "source": [
    "# LLM을 이용한 식품 원료명 추측: '통풍' -> '퓨린'\n",
    "for step in graph.stream(\n",
    "    {\"question\": \"통풍에 가장 안좋은 식품은?\"}, stream_mode=\"updates\"\n",
    "):\n",
    "    print(step)"
   ]
  },
  {
   "cell_type": "code",
   "execution_count": null,
   "id": "48399a62",
   "metadata": {},
   "outputs": [
    {
     "name": "stdout",
     "output_type": "stream",
     "text": [
      "write_query: result\n",
      "{'query': 'SELECT \"가식부_100g_당_식품명\", \"퓨린_mg\" FROM nutrition_data WHERE \"퓨린_mg\" '\n",
      "          'IS NOT NULL ORDER BY \"퓨린_mg\" DESC LIMIT 5;'}\n",
      "----------------------------------------------------------------------------------------------------\n",
      "SELECT \"가식부_100g_당_식품명\", \"퓨린_mg\" FROM nutrition_data WHERE \"퓨린_mg\" IS NOT NULL ORDER BY \"퓨린_mg\" DESC LIMIT 5;\n",
      "SELECT \"가식부_100g_당_식품명\", \"퓨린_mg\" FROM nutrition_data WHERE \"퓨린_mg\" IS NOT NULL ORDER BY \"퓨린_mg\" DESC LIMIT 5;\n",
      "{'write_query': {'query': 'SELECT \"가식부_100g_당_식품명\", \"퓨린_mg\" FROM nutrition_data WHERE \"퓨린_mg\" IS NOT NULL ORDER BY \"퓨린_mg\" DESC LIMIT 5;'}}\n",
      "evaluate_query: result\n",
      "{'columns': ['가식부_100g_당_식품명', '퓨린_mg'], 'score': 0.9}\n",
      "----------------------------------------------------------------------------------------------------\n",
      "사용된 컬럼 퓨린_mg이 실제 테이블에 존재하지 않습니다.\n",
      "{'evaluate_query': {'score': 0}}\n",
      "{'unsupported_data': {'answer': '지원하지 않는 데이터입니다.'}}\n"
     ]
    }
   ],
   "source": [
    "# 데이터에 없는 성분\n",
    "for step in graph.stream(\n",
    "    {\"question\": \"퓨린이 가장 많은 식품은?\"}, stream_mode=\"updates\"\n",
    "):\n",
    "    print(step)"
   ]
  },
  {
   "cell_type": "code",
   "execution_count": null,
   "id": "03e16cae",
   "metadata": {},
   "outputs": [
    {
     "name": "stdout",
     "output_type": "stream",
     "text": [
      "write_query: result\n",
      "{'query': 'SELECT \"가식부_100g_당_식품명\", \"일반성분_Proximates_당류_g\" FROM '\n",
      "          '\"nutrition_data\" WHERE \"가식부_100g_당_식품명\" LIKE \\'%라면%\\' LIMIT 5;'}\n",
      "----------------------------------------------------------------------------------------------------\n",
      "SELECT \"가식부_100g_당_식품명\", \"일반성분_Proximates_당류_g\" FROM \"nutrition_data\" WHERE \"가식부_100g_당_식품명\" LIKE '%라면%' LIMIT 5;\n",
      "SELECT \"가식부_100g_당_식품명\", \"일반성분_Proximates_당류_g\" FROM \"nutrition_data\" WHERE \"가식부_100g_당_식품명\" LIKE '%라면%' LIMIT 5;\n",
      "{'write_query': {'query': 'SELECT \"가식부_100g_당_식품명\", \"일반성분_Proximates_당류_g\" FROM \"nutrition_data\" WHERE \"가식부_100g_당_식품명\" LIKE \\'%라면%\\' LIMIT 5;'}}\n",
      "evaluate_query: result\n",
      "{'columns': ['가식부_100g_당_식품명', '일반성분_Proximates_당류_g'], 'score': 0.9}\n",
      "----------------------------------------------------------------------------------------------------\n",
      "{'evaluate_query': {'score': 0.9}}\n",
      "{'execute_query': {'result': \"[('라면, 말린것', 1.1), ('라면, 말린것, 삶은것', 0.31), ('라면, 용기라면, 말린것', 0.53), ('라면, 용기라면, 말린것, 삶은것', 0.06), ('라면 건더기 스프', 21.08)]\"}}\n",
      "{'generate_answer': {'answer': '라면의 당류 함량은 다음과 같습니다:\\n\\n- 라면, 말린것: 1.1g  \\n- 라면, 말린것, 삶은것: 0.31g  \\n- 라면, 용기라면, 말린것: 0.53g  \\n- 라면, 용기라면, 말린것, 삶은것: 0.06g  \\n- 라면 건더기 스프: 21.08g  \\n\\n즉, 라면 본체보다 건더기 스프에 당류 함량이 매우 높습니다.'}}\n"
     ]
    }
   ],
   "source": [
    "# 식품명으로 검색\n",
    "for step in graph.stream(\n",
    "    {\"question\": \"라면의 당류 함량은?\"}, stream_mode=\"updates\"\n",
    "):\n",
    "    print(step)"
   ]
  },
  {
   "cell_type": "code",
   "execution_count": 123,
   "id": "77c91d5d",
   "metadata": {},
   "outputs": [
    {
     "name": "stdout",
     "output_type": "stream",
     "text": [
      "write_query: result\n",
      "{'query': 'SELECT \"가식부_100g_당_식품명\", \"일반성분_Proximates_당류_g\", '\n",
      "          '\"일반성분_Proximates_에너지_kcal\" FROM \"nutrition_data\" WHERE '\n",
      "          '\"가식부_100g_당_식품명\" LIKE \\'%짜장라면%\\' OR \"가식부_100g_당_식품명\" LIKE '\n",
      "          \"'%볶음라면%' LIMIT 10;\"}\n",
      "----------------------------------------------------------------------------------------------------\n",
      "{'write_query': {'query': 'SELECT \"가식부_100g_당_식품명\", \"일반성분_Proximates_당류_g\", \"일반성분_Proximates_에너지_kcal\" FROM \"nutrition_data\" WHERE \"가식부_100g_당_식품명\" LIKE \\'%짜장라면%\\' OR \"가식부_100g_당_식품명\" LIKE \\'%볶음라면%\\' LIMIT 10;'}}\n",
      "evaluate_query: result\n",
      "{'columns': ['가식부_100g_당_식품명',\n",
      "             '일반성분_Proximates_당류_g',\n",
      "             '일반성분_Proximates_에너지_kcal'],\n",
      " 'score': 1}\n",
      "----------------------------------------------------------------------------------------------------\n",
      "{'evaluate_query': {'score': 1}}\n",
      "{'execute_query': {'result': \"[('라면 건더기 스프, 짜장라면', 31.17, 360.0), ('라면 스프, 짜장라면', 21.71, 350.0), ('라면 스프, 짜장라면, 조미유', 0.0, 899.0), ('라면, 짜장라면, 조리전', 4.49, 428.0), ('라면, 짜장라면, 조리후', 1.52, 179.0), ('라면, 용기라면, 볶음라면, 조리전', 4.03, 392.0), ('라면, 용기라면, 볶음라면, 조리후', 3.28, 202.0)]\"}}\n",
      "{'generate_answer': {'answer': '짜장라면과 볶음라면의 당류 함량과 에너지 함량은 다음과 같습니다:\\n\\n**짜장라면 관련 항목:**\\n- 라면 건더기 스프, 짜장라면: 당류 31.17g, 에너지 360kcal\\n- 라면 스프, 짜장라면: 당류 21.71g, 에너지 350kcal\\n- 라면 스프, 짜장라면, 조미유: 당류 0.0g, 에너지 899kcal\\n- 라면, 짜장라면, 조리전: 당류 4.49g, 에너지 428kcal\\n- 라면, 짜장라면, 조리후: 당류 1.52g, 에너지 179kcal\\n\\n**볶음라면 관련 항목:**\\n- 라면, 용기라면, 볶음라면, 조리전: 당류 4.03g, 에너지 392kcal\\n- 라면, 용기라면, 볶음라면, 조리후: 당류 3.28g, 에너지 202kcal\\n\\n요약하자면, 짜장라면 스프 성분에서 당류 함량이 높으며, 볶음라면은 조리 전후 모두 당류와 에너지 함량이 약간 낮은 편입니다. 조리 후 짜장라면과 볶음라면의 당류는 각각 약 1.52g, 3.28g, 에너지는 각각 179kcal, 202kcal입니다.'}}\n"
     ]
    }
   ],
   "source": [
    "# 식품명으로 검색\n",
    "for step in graph.stream(\n",
    "    {\"question\": \"짜장라면과 볶음라면의 당류 함량과 에너지 함량은?\"}, stream_mode=\"updates\"\n",
    "):\n",
    "    print(step)"
   ]
  },
  {
   "cell_type": "code",
   "execution_count": 126,
   "id": "1cdc78f3",
   "metadata": {},
   "outputs": [
    {
     "name": "stdout",
     "output_type": "stream",
     "text": [
      "write_query: result\n",
      "{'query': 'SELECT \"가식부_100g_당_식품명\", \"일반성분_Proximates_에너지_kcal\" FROM '\n",
      "          'nutrition_data WHERE \"식품군\" LIKE \\'%조리가공식품%\\' ORDER BY '\n",
      "          '\"일반성분_Proximates_에너지_kcal\" DESC LIMIT 5;'}\n",
      "----------------------------------------------------------------------------------------------------\n",
      "{'write_query': {'query': 'SELECT \"가식부_100g_당_식품명\", \"일반성분_Proximates_에너지_kcal\" FROM nutrition_data WHERE \"식품군\" LIKE \\'%조리가공식품%\\' ORDER BY \"일반성분_Proximates_에너지_kcal\" DESC LIMIT 5;'}}\n",
      "evaluate_query: result\n",
      "{'columns': ['가식부_100g_당_식품명', '일반성분_Proximates_에너지_kcal'], 'score': 0.9}\n",
      "----------------------------------------------------------------------------------------------------\n",
      "{'evaluate_query': {'score': 0.9}}\n",
      "{'execute_query': {'result': \"[('스프, 크림 스프, 가루', 430.0), ('라면, 짜장라면, 조리전', 428.0), ('라면, 용기라면, 조리전', 425.0), ('스프, 옥수수 스프, 가루', 420.0), ('라면, 조리전', 416.0)]\"}}\n",
      "{'generate_answer': {'answer': '조리가공식품 중 칼로리가 제일 높은 5개는 다음과 같습니다:\\n\\n1. 스프, 크림 스프, 가루 - 430 kcal  \\n2. 라면, 짜장라면, 조리전 - 428 kcal  \\n3. 라면, 용기라면, 조리전 - 425 kcal  \\n4. 스프, 옥수수 스프, 가루 - 420 kcal  \\n5. 라면, 조리전 - 416 kcal'}}\n"
     ]
    }
   ],
   "source": [
    "for step in graph.stream(\n",
    "    {\"question\": \"조리가공식품 중 칼로리가 제일높은 5개는?\"}, stream_mode=\"updates\"\n",
    "):\n",
    "    print(step)"
   ]
  }
 ],
 "metadata": {
  "kernelspec": {
   "display_name": ".venv",
   "language": "python",
   "name": "python3"
  },
  "language_info": {
   "codemirror_mode": {
    "name": "ipython",
    "version": 3
   },
   "file_extension": ".py",
   "mimetype": "text/x-python",
   "name": "python",
   "nbconvert_exporter": "python",
   "pygments_lexer": "ipython3",
   "version": "3.12.11"
  }
 },
 "nbformat": 4,
 "nbformat_minor": 5
}
